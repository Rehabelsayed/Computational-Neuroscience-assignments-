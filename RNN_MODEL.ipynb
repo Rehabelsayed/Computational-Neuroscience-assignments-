{
  "nbformat": 4,
  "nbformat_minor": 0,
  "metadata": {
    "colab": {
      "provenance": []
    },
    "kernelspec": {
      "name": "python3",
      "display_name": "Python 3"
    },
    "language_info": {
      "name": "python"
    }
  },
  "cells": [
    {
      "cell_type": "markdown",
      "source": [
        "# 1. Data"
      ],
      "metadata": {
        "id": "HuSM3GPbrJoB"
      }
    },
    {
      "cell_type": "code",
      "source": [
        "import numpy as np\n",
        "np.random.seed(42)\n",
        "words = [\"MAKE\", \"WHAT\", \"YOU\", \"WANT\"]\n",
        "word_to_ix = {w: i for i, w in enumerate(words)}\n",
        "ix_to_word = {i: w for w, i in word_to_ix.items()}\n",
        "vocab_size = len(words)\n",
        "\n",
        "def one_hot(index, size):\n",
        "    vec = np.zeros((size, 1))\n",
        "    vec[index] = 1\n",
        "    return vec\n",
        "\n",
        "X = [one_hot(word_to_ix[w], vocab_size) for w in [\"MAKE\", \"WHAT\", \"YOU\"]]\n",
        "Y = one_hot(word_to_ix[\"WANT\"], vocab_size)\n"
      ],
      "metadata": {
        "id": "ynWa451NmYAL"
      },
      "execution_count": 24,
      "outputs": []
    },
    {
      "cell_type": "markdown",
      "source": [
        "# 2. Hyperparameters"
      ],
      "metadata": {
        "id": "sXsLyQxWrmPK"
      }
    },
    {
      "cell_type": "code",
      "source": [
        "hidden_size = 20\n",
        "lr = 0.05\n",
        "epochs = 2000"
      ],
      "metadata": {
        "id": "4r87I4Esre7Q"
      },
      "execution_count": 25,
      "outputs": []
    },
    {
      "cell_type": "markdown",
      "source": [
        "# 3. Weights"
      ],
      "metadata": {
        "id": "LfM2I4isr_K5"
      }
    },
    {
      "cell_type": "code",
      "source": [
        "Wxh = np.random.randn(hidden_size, vocab_size) * 0.01\n",
        "Whh = np.random.randn(hidden_size, hidden_size) * 0.01\n",
        "Why = np.random.randn(vocab_size, hidden_size) * 0.01\n",
        "bh = np.zeros((hidden_size, 1))\n",
        "by = np.zeros((vocab_size, 1))"
      ],
      "metadata": {
        "id": "iHZD4WVWr91z"
      },
      "execution_count": 26,
      "outputs": []
    },
    {
      "cell_type": "markdown",
      "source": [
        "# 4. Training"
      ],
      "metadata": {
        "id": "3dolzKHXrmME"
      }
    },
    {
      "cell_type": "code",
      "source": [
        "for epoch in range(epochs):\n",
        "    hs = {-1: np.zeros((hidden_size, 1))}\n",
        "\n",
        "    for t in range(len(X)):\n",
        "        hs[t] = np.tanh(np.dot(Wxh, X[t]) + np.dot(Whh, hs[t - 1]) + bh)\n",
        "\n",
        "    y = np.dot(Why, hs[len(X)-1]) + by\n",
        "    probs = np.exp(y) / np.sum(np.exp(y))\n",
        "    loss = -np.sum(Y * np.log(probs))\n",
        "\n",
        "    dy = probs - Y\n",
        "    dWhy = np.dot(dy, hs[len(X)-1].T)\n",
        "    dby = dy\n",
        "\n",
        "    dh = np.dot(Why.T, dy)\n",
        "    dWxh = np.zeros_like(Wxh)\n",
        "    dWhh = np.zeros_like(Whh)\n",
        "    dbh = np.zeros_like(bh)\n",
        "\n",
        "    for t in reversed(range(len(X))):\n",
        "        dz = (1 - hs[t] * hs[t]) * dh\n",
        "        dWxh += np.dot(dz, X[t].T)\n",
        "        dWhh += np.dot(dz, hs[t-1].T)\n",
        "        dbh += dz\n",
        "        dh = np.dot(Whh.T, dz)\n"
      ],
      "metadata": {
        "id": "Dd-8hrjYsMrF"
      },
      "execution_count": 27,
      "outputs": []
    },
    {
      "cell_type": "markdown",
      "source": [
        "# Update weights"
      ],
      "metadata": {
        "id": "pcCu5C30sNXb"
      }
    },
    {
      "cell_type": "code",
      "source": [
        "    Wxh -= lr * dWxh\n",
        "    Whh -= lr * dWhh\n",
        "    Why -= lr * dWhy\n",
        "    bh -= lr * dbh\n",
        "    by -= lr * dby\n",
        "\n",
        "    if epoch % 200 == 0:\n",
        "        pred_word = ix_to_word[np.argmax(probs)]\n",
        "        print(f\"Epoch {epoch}, Loss: {loss:.4f}, Prediction: {pred_word}\")\n"
      ],
      "metadata": {
        "id": "jss6p_mpsN9e"
      },
      "execution_count": 28,
      "outputs": []
    },
    {
      "cell_type": "markdown",
      "source": [
        "# Final result"
      ],
      "metadata": {
        "id": "vI2uqFRysOM3"
      }
    },
    {
      "cell_type": "code",
      "source": [
        "final_pred = ix_to_word[np.argmax(probs)]\n",
        "print(\"\\nFinal Prediction:\", final_pred)"
      ],
      "metadata": {
        "colab": {
          "base_uri": "https://localhost:8080/"
        },
        "id": "-A28YW-IsOfJ",
        "outputId": "84e2d2dc-5d2c-4160-8de7-f0a6b2bc69ff"
      },
      "execution_count": 29,
      "outputs": [
        {
          "output_type": "stream",
          "name": "stdout",
          "text": [
            "\n",
            "Final Prediction: WHAT\n"
          ]
        }
      ]
    },
    {
      "cell_type": "code",
      "source": [
        "import numpy as np\n",
        "np.random.seed(42)\n",
        "words = [\"MAKE\", \"WHAT\", \"YOU\", \"WANT\"]\n",
        "word_to_ix = {w: i for i, w in enumerate(words)}\n",
        "ix_to_word = {i: w for w, i in word_to_ix.items()}\n",
        "vocab_size = len(words)\n",
        "\n",
        "def one_hot(index, size):\n",
        "    vec = np.zeros((size, 1))\n",
        "    vec[index] = 1\n",
        "    return vec\n",
        "\n",
        "X = [one_hot(word_to_ix[w], vocab_size) for w in [\"MAKE\", \"WHAT\", \"YOU\"]]\n",
        "Y = one_hot(word_to_ix[\"WANT\"], vocab_size)\n",
        "\n",
        "# 2. Hyperparameters\n",
        "hidden_size = 20\n",
        "lr = 0.05\n",
        "epochs = 2000\n",
        "\n",
        "# 3. Weights\n",
        "Wxh = np.random.randn(hidden_size, vocab_size) * 0.01\n",
        "Whh = np.random.randn(hidden_size, hidden_size) * 0.01\n",
        "Why = np.random.randn(vocab_size, hidden_size) * 0.01\n",
        "bh = np.zeros((hidden_size, 1))\n",
        "by = np.zeros((vocab_size, 1))\n",
        "\n",
        "# 4. Training\n",
        "for epoch in range(epochs):\n",
        "    hs = {-1: np.zeros((hidden_size, 1))}\n",
        "\n",
        "    for t in range(len(X)):\n",
        "        hs[t] = np.tanh(np.dot(Wxh, X[t]) + np.dot(Whh, hs[t - 1]) + bh)\n",
        "\n",
        "    y = np.dot(Why, hs[len(X)-1]) + by\n",
        "    probs = np.exp(y) / np.sum(np.exp(y))\n",
        "    loss = -np.sum(Y * np.log(probs))\n",
        "\n",
        "    dy = probs - Y\n",
        "    dWhy = np.dot(dy, hs[len(X)-1].T)\n",
        "    dby = dy\n",
        "\n",
        "    dh = np.dot(Why.T, dy)\n",
        "    dWxh = np.zeros_like(Wxh)\n",
        "    dWhh = np.zeros_like(Whh)\n",
        "    dbh = np.zeros_like(bh)\n",
        "\n",
        "    for t in reversed(range(len(X))):\n",
        "        dz = (1 - hs[t] * hs[t]) * dh\n",
        "        dWxh += np.dot(dz, X[t].T)\n",
        "        dWhh += np.dot(dz, hs[t-1].T)\n",
        "        dbh += dz\n",
        "        dh = np.dot(Whh.T, dz)\n",
        "\n",
        "    # Update\n",
        "    Wxh -= lr * dWxh\n",
        "    Whh -= lr * dWhh\n",
        "    Why -= lr * dWhy\n",
        "    bh -= lr * dbh\n",
        "    by -= lr * dby\n",
        "\n",
        "    if epoch % 200 == 0:\n",
        "        pred_word = ix_to_word[np.argmax(probs)]\n",
        "        print(f\"Epoch {epoch}, Loss: {loss:.4f}, Prediction: {pred_word}\")\n",
        "\n",
        "# Final result\n",
        "final_pred = ix_to_word[np.argmax(probs)]\n",
        "print(\"\\nFinal Prediction:\", final_pred)\n"
      ],
      "metadata": {
        "colab": {
          "base_uri": "https://localhost:8080/"
        },
        "id": "objOIgL7s_SD",
        "outputId": "d8f48e98-b209-41ee-a1cb-23a440ff54f6"
      },
      "execution_count": 30,
      "outputs": [
        {
          "output_type": "stream",
          "name": "stdout",
          "text": [
            "Epoch 0, Loss: 1.3865, Prediction: WHAT\n",
            "Epoch 200, Loss: 0.0396, Prediction: WANT\n",
            "Epoch 400, Loss: 0.0096, Prediction: WANT\n",
            "Epoch 600, Loss: 0.0047, Prediction: WANT\n",
            "Epoch 800, Loss: 0.0030, Prediction: WANT\n",
            "Epoch 1000, Loss: 0.0021, Prediction: WANT\n",
            "Epoch 1200, Loss: 0.0016, Prediction: WANT\n",
            "Epoch 1400, Loss: 0.0013, Prediction: WANT\n",
            "Epoch 1600, Loss: 0.0011, Prediction: WANT\n",
            "Epoch 1800, Loss: 0.0009, Prediction: WANT\n",
            "\n",
            "Final Prediction: WANT\n"
          ]
        }
      ]
    },
    {
      "cell_type": "code",
      "source": [],
      "metadata": {
        "id": "Kxzi0z4Nxi2U"
      },
      "execution_count": null,
      "outputs": []
    }
  ]
}