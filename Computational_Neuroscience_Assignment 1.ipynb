{
 "cells": [
  {
   "cell_type": "code",
   "execution_count": null,
   "id": "c80618c9",
   "metadata": {},
   "outputs": [],
   "source": [
    "import random\n",
    "import math"
   ]
  },
  {
   "cell_type": "code",
   "execution_count": null,
   "id": "41383e09",
   "metadata": {},
   "outputs": [],
   "source": [
    "# Custom tanh activation function\n",
    "def activate_tanh(value):\n",
    "    return (math.exp(value) - math.exp(-value)) / (math.exp(value) + math.exp(-value))\n",
    "\n",
    "random.seed(2)"
   ]
  },
  {
   "cell_type": "code",
   "execution_count": null,
   "id": "8604da80",
   "metadata": {},
   "outputs": [],
   "source": [
    "num_inputs = 2\n",
    "inputs = [0.05, 0.10]\n",
    "bias_hidden = 0.5\n",
    "bias_output = 0.7"
   ]
  },
  {
   "cell_type": "code",
   "execution_count": null,
   "id": "af7783ee",
   "metadata": {},
   "outputs": [],
   "source": [
    "hidden1_weights = [random.uniform(-0.5, 0.5) for i in range(num_inputs)]\n",
    "hidden2_weights = [random.uniform(-0.5, 0.5) for i in range(num_inputs)]"
   ]
  },
  {
   "cell_type": "code",
   "execution_count": null,
   "id": "0ba6b4cd",
   "metadata": {},
   "outputs": [],
   "source": [
    "hidden1_output = activate_tanh(inputs[0] * hidden1_weights[0] + inputs[1] * hidden1_weights[1] + bias_hidden)\n",
    "hidden2_output = activate_tanh(inputs[0] * hidden2_weights[0] + inputs[1] * hidden2_weights[1] + bias_hidden)"
   ]
  },
  {
   "cell_type": "code",
   "execution_count": null,
   "id": "5ea16e97",
   "metadata": {},
   "outputs": [],
   "source": [
    "output_weights = [random.uniform(-0.5, 0.5), random.uniform(-0.5, 0.5)]\n",
    "extra_bias = random.uniform(-0.5, 0.5)"
   ]
  },
  {
   "cell_type": "code",
   "execution_count": null,
   "id": "bb4dc200",
   "metadata": {},
   "outputs": [],
   "source": [
    "# Compute the final output of the network\n",
    "final_input = hidden1_output * output_weights[0] + hidden2_output * output_weights[1] + extra_bias\n",
    "final_output = activate_tanh(final_input)"
   ]
  },
  {
   "cell_type": "code",
   "execution_count": null,
   "id": "334e1285",
   "metadata": {},
   "outputs": [],
   "source": [
    "print(\"Hidden neuron outputs:\", hidden1_output, hidden2_output)\n",
    "print(\"Final network output:\", final_output)"
   ]
  }
 ],
 "metadata": {},
 "nbformat": 4,
 "nbformat_minor": 5
}
