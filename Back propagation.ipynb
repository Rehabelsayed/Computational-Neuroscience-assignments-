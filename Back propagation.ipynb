{
 "cells": [
  {
   "cell_type": "code",
   "execution_count": 2,
   "id": "96fd01cd-f89f-46df-b958-4782e1618ab5",
   "metadata": {},
   "outputs": [],
   "source": [
    "import numpy as np\n",
    "def sigmoid(x):\n",
    "    return 1 / (1 + np.exp(-x))\n",
    "\n",
    "def sigmoid_derivative(x):\n",
    "    return x * (1 - x)\n",
    "\n"
   ]
  },
  {
   "cell_type": "code",
   "execution_count": 3,
   "id": "e7a98bda-9ab9-4616-bc5b-f037b8e49888",
   "metadata": {},
   "outputs": [],
   "source": [
    "i1 = 0.05\n",
    "i2 = 0.10"
   ]
  },
  {
   "cell_type": "code",
   "execution_count": 4,
   "id": "749aaffa-5050-43a9-91e0-e5a147389e0c",
   "metadata": {},
   "outputs": [],
   "source": [
    "w1 = 0.15\n",
    "w2 = 0.20\n",
    "w3 = 0.25\n",
    "w4 = 0.30\n",
    "w5 = 0.40\n",
    "w6 = 0.45\n",
    "w7 = 0.50\n",
    "w8 = 0.55"
   ]
  },
  {
   "cell_type": "code",
   "execution_count": 5,
   "id": "0d9ec63a-49ed-4119-b60c-e3d5cc859430",
   "metadata": {},
   "outputs": [],
   "source": [
    "b1 = 0.35\n",
    "b2 = 0.60\n"
   ]
  },
  {
   "cell_type": "code",
   "execution_count": 6,
   "id": "0da0ed53-d228-46fd-8b97-7bf3ce9b9af5",
   "metadata": {},
   "outputs": [],
   "source": [
    "target_o1 = 0.01\n",
    "target_o2 = 0.99\n",
    "\n",
    "# Learning rate (eta)\n",
    "eta = 0.5\n",
    "\n"
   ]
  },
  {
   "cell_type": "code",
   "execution_count": 7,
   "id": "af50cc64-e1c4-464e-b5a2-99ee8e2d1483",
   "metadata": {},
   "outputs": [],
   "source": [
    "net_h1 = (i1 * w1) + (i2 * w2) + b1  # For hidden neuron h1\n",
    "net_h2 = (i1 * w3) + (i2 * w4) + b1  # For hidden neuron h2\n",
    "\n",
    "out_h1 = sigmoid(net_h1)  # Output for hidden neuron h1\n",
    "out_h2 = sigmoid(net_h2)  # Output for hidden neuron h2\n",
    "\n",
    "net_o1 = (out_h1 * w5) + (out_h2 * w6) + b2  # For output neuron o1\n",
    "net_o2 = (out_h1 * w7) + (out_h2 * w8) + b2  # For output neuron o2\n",
    "\n"
   ]
  },
  {
   "cell_type": "code",
   "execution_count": 8,
   "id": "0ef3a7fb-120c-4c18-9d3d-417b3a19f791",
   "metadata": {},
   "outputs": [],
   "source": [
    "out_o1 = sigmoid(net_o1)  # Output for o1\n",
    "out_o2 = sigmoid(net_o2)  # Output for o2\n",
    "#Errors \n",
    "error_o1 = 0.5 * (target_o1 - out_o1) ** 2\n",
    "error_o2 = 0.5 * (target_o2 - out_o2) ** 2\n",
    "total_error = error_o1 + error_o2\n",
    "\n"
   ]
  },
  {
   "cell_type": "code",
   "execution_count": 9,
   "id": "d8db724f-f9ed-4ed1-b89f-67f8953f695f",
   "metadata": {},
   "outputs": [
    {
     "name": "stdout",
     "output_type": "stream",
     "text": [
      "Output layer values: out_o1=0.75136507, out_o2=0.77292847\n",
      "Total error: 0.29837111\n",
      "\n"
     ]
    }
   ],
   "source": [
    "print(f\"Output layer values: out_o1={out_o1:.8f}, out_o2={out_o2:.8f}\")\n",
    "print(f\"Total error: {total_error:.8f}\\n\")\n"
   ]
  },
  {
   "cell_type": "code",
   "execution_count": 11,
   "id": "20f0bbb2-02b5-434f-82ef-dcdfba7f5aa2",
   "metadata": {},
   "outputs": [],
   "source": [
    " #Backpropagation - Gradients for the output neurons\n",
    " delta_o1 = (target_o1 - out_o1) * sigmoid_derivative(out_o1)\n",
    "delta_o2 = (target_o2 - out_o2) * sigmoid_derivative(out_o2)\n"
   ]
  },
  {
   "cell_type": "code",
   "execution_count": 12,
   "id": "95fb7314-0bd0-4845-b376-8f3f78d58dc3",
   "metadata": {},
   "outputs": [],
   "source": [
    "dE_dw5 = delta_o1 * out_h1\n",
    "dE_dw6 = delta_o1 * out_h2\n",
    "dE_dw7 = delta_o2 * out_h1\n",
    "dE_dw8 = delta_o2 * out_h2\n"
   ]
  },
  {
   "cell_type": "code",
   "execution_count": 13,
   "id": "e04de4f9-3d08-4e6c-9ff1-dda77a7025a3",
   "metadata": {},
   "outputs": [],
   "source": [
    "delta_h1 = (delta_o1 * w5 + delta_o2 * w7) * sigmoid_derivative(out_h1)\n",
    "# Error term for hidden neuron h2\n",
    "delta_h2 = (delta_o1 * w6 + delta_o2 * w8) * sigmoid_derivative(out_h2)\n",
    "\n",
    "# Gradients for the weights from input to hidden layer\n",
    "dE_dw1 = delta_h1 * i1\n",
    "dE_dw2 = delta_h1 * i2\n",
    "dE_dw3 = delta_h2 * i1\n",
    "dE_dw4 = delta_h2 * i2\n",
    "\n",
    "# Update weights for output layer\n",
    "w5 += eta * dE_dw5\n",
    "w6 += eta * dE_dw6\n",
    "w7 += eta * dE_dw7\n",
    "w8 += eta * dE_dw8\n",
    "\n",
    "# Update weights for hidden layer\n",
    "w1 += eta * dE_dw1\n",
    "w2 += eta * dE_dw2\n",
    "w3 += eta * dE_dw3\n",
    "w4 += eta * dE_dw4\n"
   ]
  },
  {
   "cell_type": "code",
   "execution_count": 14,
   "id": "e6d8ad5c-2eb8-4821-b0e1-e7822cbf740b",
   "metadata": {},
   "outputs": [
    {
     "name": "stdout",
     "output_type": "stream",
     "text": [
      "Updated weights: w1=0.14978072, w2=0.19956143, w3=0.24975114, w4=0.29950229\n",
      "Updated weights: w5=0.35891648, w6=0.40866619, w7=0.51130127, w8=0.56137012\n",
      "\n"
     ]
    }
   ],
   "source": [
    "print(f\"Updated weights: w1={w1:.8f}, w2={w2:.8f}, w3={w3:.8f}, w4={w4:.8f}\")\n",
    "print(f\"Updated weights: w5={w5:.8f}, w6={w6:.8f}, w7={w7:.8f}, w8={w8:.8f}\\n\")\n"
   ]
  },
  {
   "cell_type": "code",
   "execution_count": 15,
   "id": "7b679255-2760-467b-9976-1e602d20bb08",
   "metadata": {},
   "outputs": [],
   "source": [
    "# Step 10: Compute the output after weight updates\n",
    "net_h1_updated = (i1 * w1) + (i2 * w2) + b1\n",
    "net_h2_updated = (i1 * w3) + (i2 * w4) + b1\n",
    "out_h1_updated = sigmoid(net_h1_updated)\n",
    "out_h2_updated = sigmoid(net_h2_updated)"
   ]
  },
  {
   "cell_type": "code",
   "execution_count": 16,
   "id": "cef8ec8b-fe03-4968-9264-07d2710fe870",
   "metadata": {},
   "outputs": [],
   "source": [
    "net_o1_updated = (out_h1_updated * w5) + (out_h2_updated * w6) + b2\n",
    "net_o2_updated = (out_h1_updated * w7) + (out_h2_updated * w8) + b2\n",
    "out_o1_updated = sigmoid(net_o1_updated)\n",
    "out_o2_updated = sigmoid(net_o2_updated)"
   ]
  },
  {
   "cell_type": "code",
   "execution_count": 17,
   "id": "d8311a55-8374-4ac3-aec7-39411cdddc35",
   "metadata": {},
   "outputs": [],
   "source": [
    "#Calculate the new error after weight updates\n",
    "error_o1_updated = 0.5 * (target_o1 - out_o1_updated) ** 2\n",
    "error_o2_updated = 0.5 * (target_o2 - out_o2_updated) ** 2\n",
    "total_error_updated = error_o1_updated + error_o2_updated\n"
   ]
  },
  {
   "cell_type": "code",
   "execution_count": 18,
   "id": "be00da86-bde8-4084-9ad4-9b07f036732b",
   "metadata": {},
   "outputs": [
    {
     "name": "stdout",
     "output_type": "stream",
     "text": [
      "Updated output layer values: out_o1=0.74208811, out_o2=0.77528497\n",
      "Total error after updates: 0.29102777\n"
     ]
    }
   ],
   "source": [
    "# Print updated output and total error after updates\n",
    "print(f\"Updated output layer values: out_o1={out_o1_updated:.8f}, out_o2={out_o2_updated:.8f}\")\n",
    "print(f\"Total error after updates: {total_error_updated:.8f}\")"
   ]
  },
  {
   "cell_type": "code",
   "execution_count": null,
   "id": "43ae0b8f-e3f8-4497-9c9c-fa1485a0799d",
   "metadata": {},
   "outputs": [],
   "source": []
  }
 ],
 "metadata": {
  "kernelspec": {
   "display_name": "Python 3 (ipykernel)",
   "language": "python",
   "name": "python3"
  },
  "language_info": {
   "codemirror_mode": {
    "name": "ipython",
    "version": 3
   },
   "file_extension": ".py",
   "mimetype": "text/x-python",
   "name": "python",
   "nbconvert_exporter": "python",
   "pygments_lexer": "ipython3",
   "version": "3.12.7"
  }
 },
 "nbformat": 4,
 "nbformat_minor": 5
}
